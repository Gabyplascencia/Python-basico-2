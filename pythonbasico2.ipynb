{
 "cells": [
  {
   "cell_type": "markdown",
   "metadata": {},
   "source": [
    "¡Hola!\n",
    "\n",
    "Mi nombre es Tonatiuh Cruz. Me complace revisar tu proyecto hoy.\n",
    "\n",
    "Al identificar cualquier error inicialmente, simplemente los destacaré. Te animo a localizar y abordar los problemas de forma independiente como parte de tu preparación para un rol como data-scientist. En un entorno profesional, tu líder de equipo seguiría un enfoque similar. Si encuentras la tarea desafiante, proporcionaré una pista más específica en la próxima iteración.\n",
    "\n",
    "Encontrarás mis comentarios a continuación - **por favor no los muevas, modifiques o elimines**.\n",
    "\n",
    "Puedes encontrar mis comentarios en cajas verdes, amarillas o rojas como esta:\n",
    "\n",
    "<div class=\"alert alert-block alert-success\">\n",
    "<b>Comentario del revisor</b> <a class=\"tocSkip\"></a>\n",
    "\n",
    "Éxito. Todo está hecho correctamente.\n",
    "</div>\n",
    "\n",
    "<div class=\"alert alert-block alert-warning\">\n",
    "<b>Comentario del revisor</b> <a class=\"tocSkip\"></a>\n",
    "\n",
    "Observaciones. Algunas recomendaciones.\n",
    "</div>\n",
    "\n",
    "<div class=\"alert alert-block alert-danger\">\n",
    "<b>Comentario del revisor</b> <a class=\"tocSkip\"></a>\n",
    "\n",
    "Necesita corrección. El bloque requiere algunas correcciones. El trabajo no puede ser aceptado con comentarios en rojo.\n",
    "</div>\n",
    "\n",
    "Puedes responderme utilizando esto:\n",
    "\n",
    "<div class=\"alert alert-block alert-info\">\n",
    "<b>Respuesta del estudiante.</b> <a class=\"tocSkip\"></a>\n",
    "</div>"
   ]
  },
  {
   "cell_type": "markdown",
   "metadata": {
    "id": "E0vqbgi9ay0H"
   },
   "source": [
    "# Déjame escuchar la música"
   ]
  },
  {
   "cell_type": "markdown",
   "metadata": {
    "id": "fhq_eyov_Zcs"
   },
   "source": [
    "# Contenido <a id='back'></a>\n",
    "\n",
    "* [Introducción](#intro)\n",
    "* [Etapa 1. Descripción de los datos](#data_review)\n",
    "    * [Conclusiones](#data_review_conclusions)\n",
    "* [Etapa 2. Preprocesamiento de datos](#data_preprocessing)\n",
    "    * [2.1 Estilo del encabezado](#header_style)\n",
    "    * [2.2 Valores ausentes](#missing_values)\n",
    "    * [2.3 Duplicados](#duplicates)\n",
    "    * [2.4 Conclusiones](#data_preprocessing_conclusions)\n",
    "* [Etapa 3. Prueba de hipótesis](#hypothesis)\n",
    "    * [3.1 Hipótesis 1: actividad de los usuarios y las usuarias en las dos ciudades](#activity)\n",
    "* [Conclusiones](#end)"
   ]
  },
  {
   "cell_type": "markdown",
   "metadata": {},
   "source": [
    "<div class=\"alert alert-block alert-warning\">\n",
    "<b>Comentario del revisor</b> <a class=\"tocSkip\"></a>\n",
    "\n",
    "La tabla de contenidos está bien estructurada, pero sería útil si estuviera enlazada a las secciones correspondientes, de manera que al hacer clic se pueda acceder directamente a cada una. Esto facilitaría la navegación.\n",
    "\n",
    "Un consejo útil: si etiquetas correctamente todas las secciones con sus respectivos números (#), puedes generar automáticamente la tabla de contenidos desde Jupyter Lab. Simplemente ve a la pestaña de herramientas y haz clic en el botón de los puntos y barras (Table of contents). Esto te generará una tabla de contenidos enlazada y visualmente atractiva. El botón está ubicado a la derecha del botón \"Validate\".\n",
    "</div>"
   ]
  },
  {
   "cell_type": "markdown",
   "metadata": {
    "id": "VUC88oWjTJw2"
   },
   "source": [
    "## Introducción <a id='intro'></a>\n",
    "Como analista de datos, tu trabajo consiste en analizar datos para extraer información valiosa y tomar decisiones basadas en ellos. Esto implica diferentes etapas, como la descripción general de los datos, el preprocesamiento y la prueba de hipótesis.\n",
    "\n",
    "Siempre que investigamos, necesitamos formular hipótesis que después podamos probar. A veces aceptamos estas hipótesis; otras veces, las rechazamos. Para tomar las decisiones correctas, una empresa debe ser capaz de entender si está haciendo las suposiciones correctas.\n",
    "\n",
    "En este proyecto, compararás las preferencias musicales de las ciudades de Springfield y Shelbyville. Estudiarás datos reales de transmisión de música online para probar la hipótesis a continuación y comparar el comportamiento de los usuarios y las usuarias de estas dos ciudades.\n",
    "\n",
    "### Objetivo:\n",
    "Prueba la hipótesis:\n",
    "1. La actividad de los usuarios y las usuarias difiere según el día de la semana y dependiendo de la ciudad.\n",
    "\n",
    "\n",
    "### Etapas\n",
    "Los datos del comportamiento del usuario se almacenan en el archivo `/datasets/music_project_en.csv`. No hay ninguna información sobre la calidad de los datos, así que necesitarás examinarlos antes de probar la hipótesis.\n",
    "\n",
    "Primero, evaluarás la calidad de los datos y verás si los problemas son significativos. Entonces, durante el preprocesamiento de datos, tomarás en cuenta los problemas más críticos.\n",
    "\n",
    "Tu proyecto consistirá en tres etapas:\n",
    " 1. Descripción de los datos.\n",
    " 2. Preprocesamiento de datos.\n",
    " 3. Prueba de hipótesis.\n",
    "\n",
    "\n",
    "\n",
    "\n",
    "\n",
    "\n"
   ]
  },
  {
   "cell_type": "markdown",
   "metadata": {},
   "source": [
    "<div class=\"alert alert-block alert-success\">\n",
    "<b>Comentario del revisor</b> <a class=\"tocSkip\"></a>\n",
    "\n",
    "¡Hola! Excelente trabajo que has hecho al desarrollar la introducción. Esto es crucial para cualquier proyecto, ya que establece una guía clara sobre los pasos a seguir. Tener estos elementos bien definidos desde el principio nos permite trabajar de manera más organizada y eficiente. En un futuro lo podrías complementar con una tabla de contenido. Recuerda intentar agregar este apartado en todos tus proyectos.\n",
    "</div>"
   ]
  },
  {
   "cell_type": "markdown",
   "metadata": {
    "id": "hDt6pg-Rw-1U"
   },
   "source": [
    "[Volver a Contenidos](#back)"
   ]
  },
  {
   "cell_type": "markdown",
   "metadata": {
    "id": "Ml1hmfXC_Zcs"
   },
   "source": [
    "## Etapa 1. Descripción de los datos <a id='data_review'></a>\n",
    "\n",
    "Abre los datos y examínalos."
   ]
  },
  {
   "cell_type": "markdown",
   "metadata": {
    "id": "57eAOGIz_Zcs"
   },
   "source": [
    "Necesitarás `pandas`, así que impórtalo."
   ]
  },
  {
   "cell_type": "code",
   "execution_count": 1,
   "metadata": {
    "id": "AXN7PHPN_Zcs"
   },
   "outputs": [],
   "source": [
    "# Importar pandas\n",
    "import pandas as pd"
   ]
  },
  {
   "cell_type": "markdown",
   "metadata": {
    "id": "SG23P8tt_Zcs"
   },
   "source": [
    "Lee el archivo `music_project_en.csv` de la carpeta `/datasets/` y guárdalo en la variable `df`:"
   ]
  },
  {
   "cell_type": "code",
   "execution_count": 2,
   "metadata": {
    "id": "fFVu7vqh_Zct"
   },
   "outputs": [],
   "source": [
    "# Leer el archivo y almacenarlo en df\n",
    "df =pd.read_csv(\"/datasets/music_project_en.csv\")"
   ]
  },
  {
   "cell_type": "markdown",
   "metadata": {},
   "source": [
    "<div class=\"alert alert-block alert-success\">\n",
    "<b>Comentario del revisor:</b> <a class=\"tocSkip\"></a>\n",
    "    \n",
    "Has realizado un excelente trabajo al importar los datos y las bibliotecas necesarias.\n",
    "\n",
    "</div>"
   ]
  },
  {
   "cell_type": "markdown",
   "metadata": {
    "id": "rDoOMd3uTqnZ"
   },
   "source": [
    "Muestra las 10 primeras filas de la tabla:"
   ]
  },
  {
   "cell_type": "code",
   "execution_count": 3,
   "metadata": {
    "id": "oWTVX3gW_Zct"
   },
   "outputs": [
    {
     "data": {
      "text/html": [
       "<div>\n",
       "<style scoped>\n",
       "    .dataframe tbody tr th:only-of-type {\n",
       "        vertical-align: middle;\n",
       "    }\n",
       "\n",
       "    .dataframe tbody tr th {\n",
       "        vertical-align: top;\n",
       "    }\n",
       "\n",
       "    .dataframe thead th {\n",
       "        text-align: right;\n",
       "    }\n",
       "</style>\n",
       "<table border=\"1\" class=\"dataframe\">\n",
       "  <thead>\n",
       "    <tr style=\"text-align: right;\">\n",
       "      <th></th>\n",
       "      <th>userID</th>\n",
       "      <th>Track</th>\n",
       "      <th>artist</th>\n",
       "      <th>genre</th>\n",
       "      <th>City</th>\n",
       "      <th>time</th>\n",
       "      <th>Day</th>\n",
       "    </tr>\n",
       "  </thead>\n",
       "  <tbody>\n",
       "    <tr>\n",
       "      <th>0</th>\n",
       "      <td>FFB692EC</td>\n",
       "      <td>Kamigata To Boots</td>\n",
       "      <td>The Mass Missile</td>\n",
       "      <td>rock</td>\n",
       "      <td>Shelbyville</td>\n",
       "      <td>20:28:33</td>\n",
       "      <td>Wednesday</td>\n",
       "    </tr>\n",
       "    <tr>\n",
       "      <th>1</th>\n",
       "      <td>55204538</td>\n",
       "      <td>Delayed Because of Accident</td>\n",
       "      <td>Andreas Rönnberg</td>\n",
       "      <td>rock</td>\n",
       "      <td>Springfield</td>\n",
       "      <td>14:07:09</td>\n",
       "      <td>Friday</td>\n",
       "    </tr>\n",
       "    <tr>\n",
       "      <th>2</th>\n",
       "      <td>20EC38</td>\n",
       "      <td>Funiculì funiculà</td>\n",
       "      <td>Mario Lanza</td>\n",
       "      <td>pop</td>\n",
       "      <td>Shelbyville</td>\n",
       "      <td>20:58:07</td>\n",
       "      <td>Wednesday</td>\n",
       "    </tr>\n",
       "    <tr>\n",
       "      <th>3</th>\n",
       "      <td>A3DD03C9</td>\n",
       "      <td>Dragons in the Sunset</td>\n",
       "      <td>Fire + Ice</td>\n",
       "      <td>folk</td>\n",
       "      <td>Shelbyville</td>\n",
       "      <td>08:37:09</td>\n",
       "      <td>Monday</td>\n",
       "    </tr>\n",
       "    <tr>\n",
       "      <th>4</th>\n",
       "      <td>E2DC1FAE</td>\n",
       "      <td>Soul People</td>\n",
       "      <td>Space Echo</td>\n",
       "      <td>dance</td>\n",
       "      <td>Springfield</td>\n",
       "      <td>08:34:34</td>\n",
       "      <td>Monday</td>\n",
       "    </tr>\n",
       "    <tr>\n",
       "      <th>5</th>\n",
       "      <td>842029A1</td>\n",
       "      <td>Chains</td>\n",
       "      <td>Obladaet</td>\n",
       "      <td>rusrap</td>\n",
       "      <td>Shelbyville</td>\n",
       "      <td>13:09:41</td>\n",
       "      <td>Friday</td>\n",
       "    </tr>\n",
       "    <tr>\n",
       "      <th>6</th>\n",
       "      <td>4CB90AA5</td>\n",
       "      <td>True</td>\n",
       "      <td>Roman Messer</td>\n",
       "      <td>dance</td>\n",
       "      <td>Springfield</td>\n",
       "      <td>13:00:07</td>\n",
       "      <td>Wednesday</td>\n",
       "    </tr>\n",
       "    <tr>\n",
       "      <th>7</th>\n",
       "      <td>F03E1C1F</td>\n",
       "      <td>Feeling This Way</td>\n",
       "      <td>Polina Griffith</td>\n",
       "      <td>dance</td>\n",
       "      <td>Springfield</td>\n",
       "      <td>20:47:49</td>\n",
       "      <td>Wednesday</td>\n",
       "    </tr>\n",
       "    <tr>\n",
       "      <th>8</th>\n",
       "      <td>8FA1D3BE</td>\n",
       "      <td>L’estate</td>\n",
       "      <td>Julia Dalia</td>\n",
       "      <td>ruspop</td>\n",
       "      <td>Springfield</td>\n",
       "      <td>09:17:40</td>\n",
       "      <td>Friday</td>\n",
       "    </tr>\n",
       "    <tr>\n",
       "      <th>9</th>\n",
       "      <td>E772D5C0</td>\n",
       "      <td>Pessimist</td>\n",
       "      <td>NaN</td>\n",
       "      <td>dance</td>\n",
       "      <td>Shelbyville</td>\n",
       "      <td>21:20:49</td>\n",
       "      <td>Wednesday</td>\n",
       "    </tr>\n",
       "  </tbody>\n",
       "</table>\n",
       "</div>"
      ],
      "text/plain": [
       "     userID                        Track            artist   genre  \\\n",
       "0  FFB692EC            Kamigata To Boots  The Mass Missile    rock   \n",
       "1  55204538  Delayed Because of Accident  Andreas Rönnberg    rock   \n",
       "2    20EC38            Funiculì funiculà       Mario Lanza     pop   \n",
       "3  A3DD03C9        Dragons in the Sunset        Fire + Ice    folk   \n",
       "4  E2DC1FAE                  Soul People        Space Echo   dance   \n",
       "5  842029A1                       Chains          Obladaet  rusrap   \n",
       "6  4CB90AA5                         True      Roman Messer   dance   \n",
       "7  F03E1C1F             Feeling This Way   Polina Griffith   dance   \n",
       "8  8FA1D3BE                     L’estate       Julia Dalia  ruspop   \n",
       "9  E772D5C0                    Pessimist               NaN   dance   \n",
       "\n",
       "        City        time        Day  \n",
       "0  Shelbyville  20:28:33  Wednesday  \n",
       "1  Springfield  14:07:09     Friday  \n",
       "2  Shelbyville  20:58:07  Wednesday  \n",
       "3  Shelbyville  08:37:09     Monday  \n",
       "4  Springfield  08:34:34     Monday  \n",
       "5  Shelbyville  13:09:41     Friday  \n",
       "6  Springfield  13:00:07  Wednesday  \n",
       "7  Springfield  20:47:49  Wednesday  \n",
       "8  Springfield  09:17:40     Friday  \n",
       "9  Shelbyville  21:20:49  Wednesday  "
      ]
     },
     "execution_count": 3,
     "metadata": {},
     "output_type": "execute_result"
    }
   ],
   "source": [
    "# Obtener las 10 primeras filas de la tabla df\n",
    "df.head(10)"
   ]
  },
  {
   "cell_type": "markdown",
   "metadata": {
    "id": "EO73Kwic_Zct"
   },
   "source": [
    "Obtén la información general sobre la tabla con un comando. Conoces el método que muestra la información general que necesitamos."
   ]
  },
  {
   "cell_type": "code",
   "execution_count": 4,
   "metadata": {
    "id": "DSf2kIb-_Zct"
   },
   "outputs": [
    {
     "name": "stdout",
     "output_type": "stream",
     "text": [
      "<class 'pandas.core.frame.DataFrame'>\n",
      "RangeIndex: 65079 entries, 0 to 65078\n",
      "Data columns (total 7 columns):\n",
      " #   Column    Non-Null Count  Dtype \n",
      "---  ------    --------------  ----- \n",
      " 0     userID  65079 non-null  object\n",
      " 1   Track     63736 non-null  object\n",
      " 2   artist    57512 non-null  object\n",
      " 3   genre     63881 non-null  object\n",
      " 4     City    65079 non-null  object\n",
      " 5   time      65079 non-null  object\n",
      " 6   Day       65079 non-null  object\n",
      "dtypes: object(7)\n",
      "memory usage: 3.5+ MB\n"
     ]
    }
   ],
   "source": [
    "# Obtener la información general sobre nuestros datos\n",
    "df.info()"
   ]
  },
  {
   "cell_type": "markdown",
   "metadata": {
    "id": "TaQ2Iwbr_Zct"
   },
   "source": [
    "Estas son nuestras observaciones sobre la tabla. Contiene siete columnas. Almacenan los mismos tipos de datos: `object`.\n",
    "\n",
    "Según la documentación:\n",
    "- `' userID'`: identificador del usuario o la usuaria;\n",
    "- `'Track'`: título de la canción;\n",
    "- `'artist'`: nombre del artista;\n",
    "- `'genre'`: género de la pista;\n",
    "- `'City'`: ciudad del usuario o la usuaria;\n",
    "- `'time'`: la hora exacta en la que se reprodujo la canción;\n",
    "- `'Day'`: día de la semana.\n",
    "\n",
    "Podemos ver tres problemas con el estilo en los encabezados de la tabla:\n",
    "1. Algunos encabezados están en mayúsculas, otros en minúsculas.\n",
    "2. Hay espacios en algunos encabezados.\n",
    "3. `Detecta el tercer problema por tu cuenta y descríbelo aquí`.\n",
    "   Respuesta= espacios dentro de los nombres, mejor uso de guión bajo (_) para separar el nombre.\n",
    "\n",
    "\n"
   ]
  },
  {
   "cell_type": "markdown",
   "metadata": {
    "id": "MCB6-dXG_Zct"
   },
   "source": [
    "### Escribe observaciones de tu parte. Estas son algunas de las preguntas que pueden ser útiles: <a id='data_review_conclusions'></a>\n",
    "\n",
    "`1.   ¿Qué tipo de datos tenemos a nuestra disposición en las filas? ¿Y cómo podemos entender lo que almacenan las columnas?`\n",
    "La Dataframe almacena solo datos tipos Object, logrando entender el contenido de cada columna con el nombre de la misma, para mi proporciona los datos necearios y si quedara duda sobre alguna columan podemos revisar el diccionario proporcionado al inicio.\n",
    "\n",
    "`2.   ¿Hay suficientes datos para proporcionar respuestas a nuestra hipótesis o necesitamos más información?`\n",
    "Contamos con más de 65 mil datos que segurmente nos ayudaran a resolver la hipótesis, dado que nos piden buscar la fluctuación con los días de la semana en las ciudades considero que los datos recopilados son suficientes, logrando también ver el tipo de genero más escuchado para cada ciudad u otros datos de ser necesarios.\n",
    "\n",
    "`3.   ¿Notaste algún problema en los datos, como valores ausentes, duplicados o tipos de datos incorrectos?`\n",
    "En una revisión rápida a simple ojo puedo observar valores ausentes en diversas columnas únicamente, será cuestion de ayudarnos con las funciones para examinar todo el data de forma más exacta."
   ]
  },
  {
   "cell_type": "markdown",
   "metadata": {},
   "source": [
    "<div class=\"alert alert-block alert-success\">\n",
    "<b>Comentario del revisor</b> <a class=\"tocSkip\"></a>\n",
    "\n",
    "Muy buen trabajo! Excelentes observaciones de tu parte. </div>"
   ]
  },
  {
   "cell_type": "markdown",
   "metadata": {
    "id": "3eL__vcwViOi"
   },
   "source": [
    "[Volver a Contenidos](#back)"
   ]
  },
  {
   "cell_type": "markdown",
   "metadata": {
    "id": "SjYF6Ub9_Zct"
   },
   "source": [
    "## Etapa 2. Preprocesamiento de datos <a id='data_preprocessing'></a>\n",
    "\n",
    "El objetivo aquí es preparar los datos para que sean analizados.\n",
    "El primer paso es resolver cualquier problema con los encabezados. Luego podemos avanzar a los valores ausentes y duplicados. Empecemos.\n",
    "\n",
    "Corrige el formato en los encabezados de la tabla.\n"
   ]
  },
  {
   "cell_type": "markdown",
   "metadata": {
    "id": "dIaKXr29_Zct"
   },
   "source": [
    "### Estilo del encabezado <a id='header_style'></a>\n",
    "Muestra los encabezados de la tabla (los nombres de las columnas):"
   ]
  },
  {
   "cell_type": "code",
   "execution_count": 5,
   "metadata": {
    "id": "oKOTdF_Q_Zct"
   },
   "outputs": [
    {
     "data": {
      "text/plain": [
       "Index(['  userID', 'Track', 'artist', 'genre', '  City  ', 'time', 'Day'], dtype='object')"
      ]
     },
     "execution_count": 5,
     "metadata": {},
     "output_type": "execute_result"
    }
   ],
   "source": [
    "# Muestra los nombres de las columnas\n",
    "df.columns"
   ]
  },
  {
   "cell_type": "markdown",
   "metadata": {
    "id": "zj5534cv_Zct"
   },
   "source": [
    "Cambia los encabezados de la tabla de acuerdo con las reglas del buen estilo:\n",
    "* Todos los caracteres deben ser minúsculas.\n",
    "* Elimina los espacios.\n",
    "* Si el nombre tiene varias palabras, utiliza snake_case."
   ]
  },
  {
   "cell_type": "markdown",
   "metadata": {
    "id": "Xu0zkfe5zNJe"
   },
   "source": [
    "Anteriormente, aprendiste acerca de la forma automática de cambiar el nombre de las columnas. Vamos a aplicarla ahora. Utiliza el bucle for para iterar sobre los nombres de las columnas y poner todos los caracteres en minúsculas. Cuando hayas terminado, vuelve a mostrar los encabezados de la tabla:"
   ]
  },
  {
   "cell_type": "code",
   "execution_count": 6,
   "metadata": {
    "id": "6I_RwwMhzM4e"
   },
   "outputs": [
    {
     "name": "stdout",
     "output_type": "stream",
     "text": [
      "['  userid', 'track', 'artist', 'genre', '  city  ', 'time', 'day']\n"
     ]
    }
   ],
   "source": [
    "# Bucle en los encabezados poniendo todo en minúsculas\n",
    "new_names= []\n",
    "\n",
    "for column in df.columns:\n",
    "    name_lowered= column.lower()\n",
    "    new_names.append(name_lowered)\n",
    "    \n",
    "df.columns= new_names\n",
    "\n",
    "print(new_names)"
   ]
  },
  {
   "cell_type": "markdown",
   "metadata": {},
   "source": [
    "<div class=\"alert alert-block alert-success\">\n",
    "<b>Comentario del revisor</b> <a class=\"tocSkip\"></a>\n",
    "\n",
    "Gran trabajo en hacer uso de un ciclo for para aplicar la función lower() en todas las columnas d ela base</div>"
   ]
  },
  {
   "cell_type": "markdown",
   "metadata": {
    "id": "pweIRxjSzPYW"
   },
   "source": [
    "Ahora, utilizando el mismo método, elimina los espacios al principio y al final de los nombres de las columnas e imprime los nombres de las columnas nuevamente:"
   ]
  },
  {
   "cell_type": "code",
   "execution_count": 7,
   "metadata": {
    "id": "vVQXbFyJzSYl"
   },
   "outputs": [
    {
     "name": "stdout",
     "output_type": "stream",
     "text": [
      "['userid', 'track', 'artist', 'genre', 'city', 'time', 'day']\n"
     ]
    }
   ],
   "source": [
    "# Bucle en los encabezados eliminando los espacios\n",
    "new_names= []\n",
    "\n",
    "for column in df.columns:\n",
    "    name_stripped= column.strip()\n",
    "    new_names.append(name_stripped)\n",
    "    \n",
    "df.columns= new_names\n",
    "\n",
    "print(new_names)"
   ]
  },
  {
   "cell_type": "markdown",
   "metadata": {
    "id": "yCb8MW1JzURd"
   },
   "source": [
    "Necesitamos aplicar la regla de snake_case a la columna `userid`. Debe ser `user_id`. Cambia el nombre de esta columna y muestra los nombres de todas las columnas cuando hayas terminado."
   ]
  },
  {
   "cell_type": "code",
   "execution_count": 8,
   "metadata": {
    "id": "ISlFqs5y_Zct"
   },
   "outputs": [],
   "source": [
    "# Cambiar el nombre de la columna \"userid\"\n",
    "\n",
    "df.rename(columns={\"userid\":\"user_id\"}, inplace=True)\n"
   ]
  },
  {
   "cell_type": "markdown",
   "metadata": {},
   "source": [
    "<div class=\"alert alert-block alert-danger\">\n",
    "<b>Comentario del revisor</b> <a class=\"tocSkip\"></a>\n",
    "\n",
    "Muy buen trabajo! Solamente en este caso si usamos rename debemos de colocar las columnas como diccionario. Te dejo un ejemplo del cual te puedes guiar:\n",
    "\n",
    "    df.rename(columns={\"userid\": \"user_id\"}, inplace=True)"
   ]
  },
  {
   "cell_type": "markdown",
   "metadata": {},
   "source": [
    "<div class=\"alert alert-block alert-success\">\n",
    "<b>Comentario del revisor</b> <a class=\"tocSkip\"></a>\n",
    "\n",
    "Gran trabajo con los ajustes!"
   ]
  },
  {
   "cell_type": "markdown",
   "metadata": {
    "id": "1dqbh00J_Zct"
   },
   "source": [
    "Comprueba el resultado. Muestra los encabezados una vez más:"
   ]
  },
  {
   "cell_type": "code",
   "execution_count": 9,
   "metadata": {
    "id": "d4NOAmTW_Zct"
   },
   "outputs": [
    {
     "data": {
      "text/plain": [
       "Index(['user_id', 'track', 'artist', 'genre', 'city', 'time', 'day'], dtype='object')"
      ]
     },
     "execution_count": 9,
     "metadata": {},
     "output_type": "execute_result"
    }
   ],
   "source": [
    "# Comprobar el resultado: la lista de encabezado.columns \n",
    "df.columns"
   ]
  },
  {
   "cell_type": "markdown",
   "metadata": {
    "id": "xYJk6ksJVpOl"
   },
   "source": [
    "[Volver a Contenidos](#back)"
   ]
  },
  {
   "cell_type": "markdown",
   "metadata": {
    "id": "5ISfbcfY_Zct"
   },
   "source": [
    "### Valores ausentes <a id='missing_values'></a>\n",
    " Primero, encuentra el número de valores ausentes en la tabla. Debes utilizar dos métodos en una secuencia para obtener el número de valores ausentes."
   ]
  },
  {
   "cell_type": "code",
   "execution_count": 10,
   "metadata": {
    "id": "RskX29qr_Zct"
   },
   "outputs": [
    {
     "data": {
      "text/plain": [
       "user_id       0\n",
       "track      1343\n",
       "artist     7567\n",
       "genre      1198\n",
       "city          0\n",
       "time          0\n",
       "day           0\n",
       "dtype: int64"
      ]
     },
     "execution_count": 10,
     "metadata": {},
     "output_type": "execute_result"
    }
   ],
   "source": [
    "# Calcular el número de valores ausentes\n",
    "df.isna().sum()"
   ]
  },
  {
   "cell_type": "markdown",
   "metadata": {
    "id": "qubhgnlO_Zct"
   },
   "source": [
    "No todos los valores ausentes afectan a la investigación. Por ejemplo, los valores ausentes en `track` y `artist` no son cruciales. Simplemente puedes reemplazarlos con valores predeterminados como el string `'unknown'` (desconocido).\n",
    "\n",
    "Pero los valores ausentes en `'genre'` pueden afectar la comparación entre las preferencias musicales de Springfield y Shelbyville. En la vida real, sería útil saber las razones por las cuales hay datos ausentes e intentar recuperarlos. Pero no tenemos esa oportunidad en este proyecto. Así que tendrás que:\n",
    "* rellenar estos valores ausentes con un valor predeterminado;\n",
    "* evaluar cuánto podrían afectar los valores ausentes a tus cómputos;"
   ]
  },
  {
   "cell_type": "markdown",
   "metadata": {
    "id": "fSv2laPA_Zct"
   },
   "source": [
    "Reemplazar los valores ausentes en las columnas `'track'`, `'artist'` y `'genre'` con el string `'unknown'`. Como mostramos anteriormente en las lecciones, la mejor forma de hacerlo es crear una lista que almacene los nombres de las columnas donde se necesita el reemplazo. Luego, utiliza esta lista e itera sobre las columnas donde se necesita el reemplazo haciendo el propio reemplazo."
   ]
  },
  {
   "cell_type": "code",
   "execution_count": 11,
   "metadata": {
    "id": "KplB5qWs_Zct"
   },
   "outputs": [],
   "source": [
    "# Bucle en los encabezados reemplazando los valores ausentes con 'unknown'\n",
    "columns_to_replace = [\"track\",\"artist\",\"genre\"]\n",
    "\n",
    "for column in columns_to_replace:\n",
    "        df [column].fillna (\"unknown\",inplace=True)"
   ]
  },
  {
   "cell_type": "markdown",
   "metadata": {
    "id": "Ilsm-MZo_Zct"
   },
   "source": [
    "Ahora comprueba el resultado para asegurarte de que después del reemplazo no haya valores ausentes en el conjunto de datos. Para hacer esto, cuenta los valores ausentes nuevamente."
   ]
  },
  {
   "cell_type": "code",
   "execution_count": 12,
   "metadata": {
    "id": "Tq4nYRX4_Zct"
   },
   "outputs": [
    {
     "data": {
      "text/plain": [
       "user_id    0\n",
       "track      0\n",
       "artist     0\n",
       "genre      0\n",
       "city       0\n",
       "time       0\n",
       "day        0\n",
       "dtype: int64"
      ]
     },
     "execution_count": 12,
     "metadata": {},
     "output_type": "execute_result"
    }
   ],
   "source": [
    "# Contar valores ausentes\n",
    "df.isna().sum()"
   ]
  },
  {
   "cell_type": "markdown",
   "metadata": {},
   "source": [
    "\n",
    "<div class=\"alert alert-block alert-success\">\n",
    "<b>Comentario del revisor</b> <a class=\"tocSkip\"></a>\n",
    "\n",
    "Muy buen trabajo! Ajustaste todos los elementos con valores ausentes y los cambiaste con una etiqueta \"unkown\" que nos permite identificarlos</div>"
   ]
  },
  {
   "cell_type": "markdown",
   "metadata": {
    "id": "74ZIBmq9VrsK"
   },
   "source": [
    "[Volver a Contenidos](#back)"
   ]
  },
  {
   "cell_type": "markdown",
   "metadata": {
    "id": "BWKRtBJ3_Zct"
   },
   "source": [
    "### Duplicados <a id='duplicates'></a>\n",
    "Encuentra el número de duplicados explícitos en la tabla. Una vez más, debes aplicar dos métodos en una secuencia para obtener la cantidad de duplicados explícitos."
   ]
  },
  {
   "cell_type": "code",
   "execution_count": 13,
   "metadata": {
    "id": "36eES_S0_Zct"
   },
   "outputs": [
    {
     "data": {
      "text/plain": [
       "3826"
      ]
     },
     "execution_count": 13,
     "metadata": {},
     "output_type": "execute_result"
    }
   ],
   "source": [
    "# Contar duplicados explícitos\n",
    "df.duplicated().sum()"
   ]
  },
  {
   "cell_type": "markdown",
   "metadata": {
    "id": "Ot25h6XR_Zct"
   },
   "source": [
    "Ahora, elimina todos los duplicados. Para ello, llama al método que hace exactamente esto."
   ]
  },
  {
   "cell_type": "code",
   "execution_count": 14,
   "metadata": {
    "id": "exFHq6tt_Zct"
   },
   "outputs": [],
   "source": [
    "# Eliminar duplicados explícitos\n",
    "df.drop_duplicates(inplace=True)"
   ]
  },
  {
   "cell_type": "markdown",
   "metadata": {
    "id": "Im2YwBEG_Zct"
   },
   "source": [
    "Comprobemos ahora si eliminamos con éxito todos los duplicados. Cuenta los duplicados explícitos una vez más para asegurarte de haberlos eliminado todos:"
   ]
  },
  {
   "cell_type": "code",
   "execution_count": 15,
   "metadata": {
    "id": "-8PuNWQ0_Zct"
   },
   "outputs": [
    {
     "data": {
      "text/plain": [
       "0"
      ]
     },
     "execution_count": 15,
     "metadata": {},
     "output_type": "execute_result"
    }
   ],
   "source": [
    "# Comprobar de nuevo si hay duplicados\n",
    "\n",
    "df.duplicated().sum()"
   ]
  },
  {
   "cell_type": "markdown",
   "metadata": {
    "id": "QlFBsxAr_Zct"
   },
   "source": [
    "Ahora queremos deshacernos de los duplicados implícitos en la columna `genre`. Por ejemplo, el nombre de un género se puede escribir de varias formas. Dichos errores también pueden afectar al resultado."
   ]
  },
  {
   "cell_type": "markdown",
   "metadata": {
    "id": "eSjWwsOh_Zct"
   },
   "source": [
    "Para hacerlo, primero mostremos una lista de nombres de género únicos, ordenados en orden alfabético. Para ello:\n",
    "* Extrae la columna `genre` del DataFrame.\n",
    "* Llama al método que devolverá todos los valores únicos en la columna extraída.\n"
   ]
  },
  {
   "cell_type": "code",
   "execution_count": 16,
   "metadata": {
    "id": "JIUcqzZN_Zct"
   },
   "outputs": [
    {
     "data": {
      "text/plain": [
       "array(['rock', 'pop', 'folk', 'dance', 'rusrap', 'ruspop', 'world',\n",
       "       'electronic', 'unknown', 'alternative', 'children', 'rnb', 'hip',\n",
       "       'jazz', 'postrock', 'latin', 'classical', 'metal', 'reggae',\n",
       "       'triphop', 'blues', 'instrumental', 'rusrock', 'dnb', 'türk',\n",
       "       'post', 'country', 'psychedelic', 'conjazz', 'indie',\n",
       "       'posthardcore', 'local', 'avantgarde', 'punk', 'videogame',\n",
       "       'techno', 'house', 'christmas', 'melodic', 'caucasian',\n",
       "       'reggaeton', 'soundtrack', 'singer', 'ska', 'salsa', 'ambient',\n",
       "       'film', 'western', 'rap', 'beats', \"hard'n'heavy\", 'progmetal',\n",
       "       'minimal', 'tropical', 'contemporary', 'new', 'soul', 'holiday',\n",
       "       'german', 'jpop', 'spiritual', 'urban', 'gospel', 'nujazz',\n",
       "       'folkmetal', 'trance', 'miscellaneous', 'anime', 'hardcore',\n",
       "       'progressive', 'korean', 'numetal', 'vocal', 'estrada', 'tango',\n",
       "       'loungeelectronic', 'classicmetal', 'dubstep', 'club', 'deep',\n",
       "       'southern', 'black', 'folkrock', 'fitness', 'french', 'disco',\n",
       "       'religious', 'hiphop', 'drum', 'extrememetal', 'türkçe',\n",
       "       'experimental', 'easy', 'metalcore', 'modern', 'argentinetango',\n",
       "       'old', 'swing', 'breaks', 'eurofolk', 'stonerrock', 'industrial',\n",
       "       'funk', 'middle', 'variété', 'other', 'adult', 'christian',\n",
       "       'thrash', 'gothic', 'international', 'muslim', 'relax', 'schlager',\n",
       "       'caribbean', 'nu', 'breakbeat', 'comedy', 'chill', 'newage',\n",
       "       'specialty', 'uzbek', 'k-pop', 'balkan', 'chinese', 'meditative',\n",
       "       'dub', 'power', 'death', 'grime', 'arabesk', 'romance', 'flamenco',\n",
       "       'leftfield', 'european', 'tech', 'newwave', 'dancehall', 'mpb',\n",
       "       'piano', 'top', 'bigroom', 'opera', 'celtic', 'tradjazz',\n",
       "       'acoustic', 'epicmetal', 'hip-hop', 'historisch', 'downbeat',\n",
       "       'downtempo', 'africa', 'audiobook', 'jewish', 'sängerportrait',\n",
       "       'deutschrock', 'eastern', 'action', 'future', 'electropop',\n",
       "       'folklore', 'bollywood', 'marschmusik', 'rnr', 'karaoke', 'indian',\n",
       "       'rancheras', 'afrikaans', 'rhythm', 'sound', 'deutschspr', 'trip',\n",
       "       'lovers', 'choral', 'dancepop', 'retro', 'smooth', 'mexican',\n",
       "       'brazilian', 'ïîï', 'mood', 'surf', 'gangsta', 'inspirational',\n",
       "       'idm', 'ethnic', 'bluegrass', 'broadway', 'animated', 'americana',\n",
       "       'karadeniz', 'rockabilly', 'colombian', 'self', 'hop', 'sertanejo',\n",
       "       'japanese', 'canzone', 'lounge', 'sport', 'ragga', 'traditional',\n",
       "       'gitarre', 'frankreich', 'emo', 'laiko', 'cantopop', 'glitch',\n",
       "       'documentary', 'oceania', 'popeurodance', 'dark', 'vi', 'grunge',\n",
       "       'hardstyle', 'samba', 'garage', 'art', 'folktronica', 'entehno',\n",
       "       'mediterranean', 'chamber', 'cuban', 'taraftar', 'gypsy',\n",
       "       'hardtechno', 'shoegazing', 'bossa', 'latino', 'worldbeat',\n",
       "       'malaysian', 'baile', 'ghazal', 'arabic', 'popelectronic', 'acid',\n",
       "       'kayokyoku', 'neoklassik', 'tribal', 'tanzorchester', 'native',\n",
       "       'independent', 'cantautori', 'handsup', 'punjabi', 'synthpop',\n",
       "       'rave', 'französisch', 'quebecois', 'speech', 'soulful', 'jam',\n",
       "       'ram', 'horror', 'orchestral', 'neue', 'roots', 'slow', 'jungle',\n",
       "       'indipop', 'axé', 'fado', 'showtunes', 'arena', 'irish',\n",
       "       'mandopop', 'forró', 'dirty', 'regional'], dtype=object)"
      ]
     },
     "execution_count": 16,
     "metadata": {},
     "output_type": "execute_result"
    }
   ],
   "source": [
    "# Inspeccionar los nombres de géneros únicos\n",
    "df[\"genre\"].unique()"
   ]
  },
  {
   "cell_type": "markdown",
   "metadata": {
    "id": "qej-Qmuo_Zct"
   },
   "source": [
    "Busca en la lista para encontrar duplicados implícitos del género `hiphop`. Estos pueden ser nombres escritos incorrectamente o nombres alternativos para el mismo género.\n",
    "\n",
    "Verás los siguientes duplicados implícitos:\n",
    "* `hip`\n",
    "* `hop`\n",
    "* `hip-hop`\n",
    "\n",
    "Para deshacerte de ellos, crea una función llamada `replace_wrong_genres()` con dos parámetros:\n",
    "* `wrong_genres=`: esta es una lista que contiene todos los valores que necesitas reemplazar.\n",
    "* `correct_genre=`: este es un string que vas a utilizar como reemplazo.\n",
    "\n",
    "Como resultado, la función debería corregir los nombres en la columna `'genre'` de la tabla `df`, es decir, remplazar cada valor de la lista `wrong_genres` por el valor en `correct_genre`.\n",
    "\n",
    "Dentro del cuerpo de la función, utiliza un bucle `'for'` para iterar sobre la lista de géneros incorrectos, extrae la columna `'genre'` y aplica el método `replace` para hacer correcciones."
   ]
  },
  {
   "cell_type": "code",
   "execution_count": 17,
   "metadata": {
    "id": "ErNDkmns_Zct"
   },
   "outputs": [],
   "source": [
    "# Función para reemplazar duplicados implícitos\n",
    "\n",
    "def replace_wrong_genres (df,column_name, equivalences: dict):\n",
    "       \n",
    "    for correct_genre,wrong_genre in equivalences.items():\n",
    "        df[column_name] = df[column_name].replace(wrong_genre, correct_genre)\n",
    "    return df[column_name]\n",
    "\n",
    "equivalences={\"hiphop\": [\"hip-hop\", \"hip\", \"hop\"]}"
   ]
  },
  {
   "cell_type": "markdown",
   "metadata": {},
   "source": [
    "<div class=\"alert alert-block alert-success\">\n",
    "<b>Comentario del revisor</b> <a class=\"tocSkip\"></a>\n",
    "\n",
    "Excelente trabajo con la función. Con esto nos permitira reemplazar los registros duplicados con los valores que coloquemos dentro del arguneto de la función</div>"
   ]
  },
  {
   "cell_type": "markdown",
   "metadata": {
    "id": "aDoBJxbA_Zct"
   },
   "source": [
    "Ahora, llama a `replace_wrong_genres()` y pásale tales argumentos para que retire los duplicados implícitos (`hip`, `hop` y `hip-hop`) y los reemplace por `hiphop`:"
   ]
  },
  {
   "cell_type": "code",
   "execution_count": 18,
   "metadata": {
    "id": "YN5i2hpmSo09"
   },
   "outputs": [],
   "source": [
    "# Eliminar duplicados implícitos\n",
    "df[\"genre\"] = replace_wrong_genres(df,\"genre\", equivalences)"
   ]
  },
  {
   "cell_type": "markdown",
   "metadata": {
    "id": "zQKF16_RG15m"
   },
   "source": [
    "Asegúrate de que los nombres duplicados han sido eliminados. Muestra la lista de valores únicos de la columna `'genre'` una vez más:"
   ]
  },
  {
   "cell_type": "code",
   "execution_count": 19,
   "metadata": {
    "id": "wvixALnFG15m"
   },
   "outputs": [
    {
     "data": {
      "text/plain": [
       "266"
      ]
     },
     "execution_count": 19,
     "metadata": {},
     "output_type": "execute_result"
    }
   ],
   "source": [
    "# Comprobación de duplicados implícitos\n",
    "df[\"genre\"].nunique()"
   ]
  },
  {
   "cell_type": "markdown",
   "metadata": {
    "id": "ALgNbvF3VtPA"
   },
   "source": [
    "[Volver a Contenidos](#back)"
   ]
  },
  {
   "cell_type": "markdown",
   "metadata": {
    "id": "jz6a9-7HQUDd"
   },
   "source": [
    "### Tus observaciones <a id='data_preprocessing_conclusions'></a>\n",
    "\n",
    "`Describe brevemente lo que has notado al analizar duplicados, cómo abordaste sus eliminaciones y qué resultados obtuviste.`\n",
    "\n",
    "Limpiar los datos es básico para eliminar la mayor probabilidad de errores y falsos negativos en los resultados.\n",
    "Quitar los duplicados implicitos y explicitos nos diminuye el rango de respuestas para analoar, creando grupos de datos más grandes para la misma variable, lo que facilita la observación de los datos.\n",
    "\n",
    "Hasta el momento solo con limpiar los datos podemos recolactar el estilo de música, mas no conocemos más haya sobre la estadística sugerida o la hipótesis.\n",
    "\n",
    "El resultado hasta el momento es que obtuvimos un df limpio, con mayor número de datos completos, listas filtradas para los generos escuchados, pero sin ninguna respuesta signifcativa a mostrar."
   ]
  },
  {
   "cell_type": "markdown",
   "metadata": {
    "id": "eK1es74rVujj"
   },
   "source": [
    "[Volver a Contenidos](#back)"
   ]
  },
  {
   "cell_type": "markdown",
   "metadata": {
    "id": "WttZHXH0SqKk"
   },
   "source": [
    "## Etapa 3. Prueba de hipótesis <a id='hypothesis'></a>"
   ]
  },
  {
   "cell_type": "markdown",
   "metadata": {
    "id": "Im936VVi_Zcu"
   },
   "source": [
    "### Hipótesis: comparar el comportamiento del usuario o la usuaria en las dos ciudades <a id='activity'></a>"
   ]
  },
  {
   "cell_type": "markdown",
   "metadata": {
    "id": "nwt_MuaL_Zcu"
   },
   "source": [
    "La hipótesis afirma que existen diferencias en la forma en que los usuarios y las usuarias de Springfield y Shelbyville consumen música. Para comprobar esto, usa los datos de tres días de la semana: lunes, miércoles y viernes.\n",
    "\n",
    "* Agrupa a los usuarios y las usuarias por ciudad.\n",
    "* Compara el número de canciones que cada grupo reprodujo el lunes, el miércoles y el viernes.\n"
   ]
  },
  {
   "cell_type": "markdown",
   "metadata": {
    "id": "8Dw_YMmT_Zcu"
   },
   "source": [
    "Realiza cada cálculo por separado.\n",
    "\n",
    "El primer paso es evaluar la actividad del usuario en cada ciudad. Recuerda las etapas dividir-aplicar-combinar de las que hablamos anteriormente en la lección. Tu objetivo ahora es agrupar los datos por ciudad, aplicar el método apropiado para contar durante la etapa de aplicación y luego encontrar la cantidad de canciones reproducidas en cada grupo especificando la columna para obtener el recuento.\n",
    "\n",
    "A continuación se muestra un ejemplo de cómo debería verse el resultado final:\n",
    "`df.groupby(by='....')['column'].method()`Realiza cada cálculo por separado.\n",
    "\n",
    "Para evaluar la actividad de los usuarios y las usuarias en cada ciudad, agrupa los datos por ciudad y encuentra la cantidad de canciones reproducidas en cada grupo.\n",
    "\n"
   ]
  },
  {
   "cell_type": "code",
   "execution_count": 20,
   "metadata": {
    "id": "0_Qs96oh_Zcu"
   },
   "outputs": [
    {
     "data": {
      "text/html": [
       "<div>\n",
       "<style scoped>\n",
       "    .dataframe tbody tr th:only-of-type {\n",
       "        vertical-align: middle;\n",
       "    }\n",
       "\n",
       "    .dataframe tbody tr th {\n",
       "        vertical-align: top;\n",
       "    }\n",
       "\n",
       "    .dataframe thead th {\n",
       "        text-align: right;\n",
       "    }\n",
       "</style>\n",
       "<table border=\"1\" class=\"dataframe\">\n",
       "  <thead>\n",
       "    <tr style=\"text-align: right;\">\n",
       "      <th></th>\n",
       "      <th></th>\n",
       "      <th>user_id</th>\n",
       "    </tr>\n",
       "    <tr>\n",
       "      <th>city</th>\n",
       "      <th>day</th>\n",
       "      <th></th>\n",
       "    </tr>\n",
       "  </thead>\n",
       "  <tbody>\n",
       "    <tr>\n",
       "      <th rowspan=\"3\" valign=\"top\">Shelbyville</th>\n",
       "      <th>Friday</th>\n",
       "      <td>5895</td>\n",
       "    </tr>\n",
       "    <tr>\n",
       "      <th>Monday</th>\n",
       "      <td>5614</td>\n",
       "    </tr>\n",
       "    <tr>\n",
       "      <th>Wednesday</th>\n",
       "      <td>7003</td>\n",
       "    </tr>\n",
       "    <tr>\n",
       "      <th rowspan=\"3\" valign=\"top\">Springfield</th>\n",
       "      <th>Friday</th>\n",
       "      <td>15945</td>\n",
       "    </tr>\n",
       "    <tr>\n",
       "      <th>Monday</th>\n",
       "      <td>15740</td>\n",
       "    </tr>\n",
       "    <tr>\n",
       "      <th>Wednesday</th>\n",
       "      <td>11056</td>\n",
       "    </tr>\n",
       "  </tbody>\n",
       "</table>\n",
       "</div>"
      ],
      "text/plain": [
       "                       user_id\n",
       "city        day               \n",
       "Shelbyville Friday        5895\n",
       "            Monday        5614\n",
       "            Wednesday     7003\n",
       "Springfield Friday       15945\n",
       "            Monday       15740\n",
       "            Wednesday    11056"
      ]
     },
     "execution_count": 20,
     "metadata": {},
     "output_type": "execute_result"
    }
   ],
   "source": [
    "# Contar las canciones reproducidas en cada ciudad\n",
    "df[[\"user_id\",\"city\",\"day\"]].groupby([\"city\", \"day\"]).count()"
   ]
  },
  {
   "cell_type": "markdown",
   "metadata": {
    "id": "t_Qx-3NewAnK"
   },
   "source": [
    "`Comenta tus observaciones aquí`\n",
    "Ahora conocemos que en Springfield se escucha casi 3 veces más música."
   ]
  },
  {
   "cell_type": "markdown",
   "metadata": {
    "id": "dzli3w8o_Zcu"
   },
   "source": [
    "Ahora agrupemos los datos por día de la semana y encontremos el número de canciones reproducidas el lunes, miércoles y viernes. Utiliza el mismo método que antes, pero ahora necesitamos una agrupación diferente.\n"
   ]
  },
  {
   "cell_type": "code",
   "execution_count": 21,
   "metadata": {
    "id": "uZMKjiJz_Zcu"
   },
   "outputs": [
    {
     "data": {
      "text/html": [
       "<div>\n",
       "<style scoped>\n",
       "    .dataframe tbody tr th:only-of-type {\n",
       "        vertical-align: middle;\n",
       "    }\n",
       "\n",
       "    .dataframe tbody tr th {\n",
       "        vertical-align: top;\n",
       "    }\n",
       "\n",
       "    .dataframe thead th {\n",
       "        text-align: right;\n",
       "    }\n",
       "</style>\n",
       "<table border=\"1\" class=\"dataframe\">\n",
       "  <thead>\n",
       "    <tr style=\"text-align: right;\">\n",
       "      <th></th>\n",
       "      <th>user_id</th>\n",
       "    </tr>\n",
       "    <tr>\n",
       "      <th>day</th>\n",
       "      <th></th>\n",
       "    </tr>\n",
       "  </thead>\n",
       "  <tbody>\n",
       "    <tr>\n",
       "      <th>Friday</th>\n",
       "      <td>21840</td>\n",
       "    </tr>\n",
       "    <tr>\n",
       "      <th>Monday</th>\n",
       "      <td>21354</td>\n",
       "    </tr>\n",
       "    <tr>\n",
       "      <th>Wednesday</th>\n",
       "      <td>18059</td>\n",
       "    </tr>\n",
       "  </tbody>\n",
       "</table>\n",
       "</div>"
      ],
      "text/plain": [
       "           user_id\n",
       "day               \n",
       "Friday       21840\n",
       "Monday       21354\n",
       "Wednesday    18059"
      ]
     },
     "execution_count": 21,
     "metadata": {},
     "output_type": "execute_result"
    }
   ],
   "source": [
    "# Calcular las canciones reproducidas en cada uno de los tres días\n",
    "df[[\"user_id\",\"day\"]].groupby(\"day\").count()"
   ]
  },
  {
   "cell_type": "markdown",
   "metadata": {
    "id": "cC2tNrlL_Zcu"
   },
   "source": [
    "`Comenta tus observaciones aquí`\n",
    "Observar la música reproducida por día no muestra ningun patron en cuanto a la cantidad de música por día, Siendo el Lunes el 2do día más escuchado, baja en Miercoles y aumenta eponencialmente para el Viernes."
   ]
  },
  {
   "cell_type": "markdown",
   "metadata": {
    "id": "POzs8bGa_Zcu"
   },
   "source": [
    "Ya sabes cómo contar entradas agrupándolas por ciudad o día. Ahora necesitas escribir una función que pueda contar entradas según ambos criterios simultáneamente.\n",
    "\n",
    "Crea la función `number_tracks()` para calcular el número de canciones reproducidas en un determinado día **y** ciudad. La función debe aceptar dos parámetros:\n",
    "\n",
    "- `day`: un día de la semana para filtrar. Por ejemplo, `'Monday'` (lunes).\n",
    "- `city`: una ciudad para filtrar. Por ejemplo, `'Springfield'`.\n",
    "\n",
    "Dentro de la función, aplicarás un filtrado consecutivo con indexación lógica.\n",
    "\n",
    "Primero filtra los datos por día y luego filtra la tabla resultante por ciudad.\n",
    "\n",
    "Después de filtrar los datos por dos criterios, cuenta el número de valores de la columna 'user_id' en la tabla resultante. Este recuento representa el número de entradas que estás buscando. Guarda el resultado en una nueva variable y devuélvelo desde la función."
   ]
  },
  {
   "cell_type": "code",
   "execution_count": 22,
   "metadata": {
    "id": "Nz3GdQB1_Zcu"
   },
   "outputs": [],
   "source": [
    "def number_tracks(df,day,city): \n",
    "    filtro_dia = df[\"day\"] == day\n",
    "    filtro_ciudad = df [\"city\"] == city\n",
    "    df_filtrado = df [filtro_ciudad & filtro_dia]\n",
    "    return len(df_filtrado)# Declara la función number_tracks() con dos parámetros: day= y city=.\n",
    "    \n",
    "    # Almacena las filas del DataFrame donde el valor en la columna 'day' es igual al parámetro day=\n",
    "\n",
    "    # Filtra las filas donde el valor en la columna 'city' es igual al parámetro city=\n",
    "\n",
    "    # Extrae la columna 'user_id' de la tabla filtrada y aplica el método count()\n",
    "\n",
    "    # Devolve el número de valores de la columna 'user_id'"
   ]
  },
  {
   "cell_type": "markdown",
   "metadata": {},
   "source": [
    "<div class=\"alert alert-block alert-success\">\n",
    "<b>Comentario del revisor</b> <a class=\"tocSkip\"></a>\n",
    "\n",
    "Realizaste un gran trabajo con la definición de la función. Como pudiste notar, el desarrollar funciones nos permiten encapsular lógica reutilizable, evitando la repetición de código y facilitando su uso en diferentes partes de un programa o en distintos proyectos.</div>"
   ]
  },
  {
   "cell_type": "markdown",
   "metadata": {
    "id": "ytf7xFrFJQ2r"
   },
   "source": [
    "Llama a `number_tracks()` seis veces, cambiando los valores de los parámetros para que recuperes los datos de ambas ciudades para cada uno de los tres días."
   ]
  },
  {
   "cell_type": "code",
   "execution_count": 23,
   "metadata": {
    "id": "rJcRATNQ_Zcu"
   },
   "outputs": [
    {
     "data": {
      "text/plain": [
       "15740"
      ]
     },
     "execution_count": 23,
     "metadata": {},
     "output_type": "execute_result"
    }
   ],
   "source": [
    "# El número de canciones reproducidas en Springfield el lunes\n",
    "number_tracks(df, day=\"Monday\", city=\"Springfield\")"
   ]
  },
  {
   "cell_type": "code",
   "execution_count": 24,
   "metadata": {
    "id": "hq_ncZ5T_Zcu"
   },
   "outputs": [
    {
     "data": {
      "text/plain": [
       "5614"
      ]
     },
     "execution_count": 24,
     "metadata": {},
     "output_type": "execute_result"
    }
   ],
   "source": [
    "# El número de canciones reproducidas en Shelbyville el lunes\n",
    "number_tracks(df, day=\"Monday\", city=\"Shelbyville\")"
   ]
  },
  {
   "cell_type": "code",
   "execution_count": 25,
   "metadata": {
    "id": "_NTy2VPU_Zcu"
   },
   "outputs": [
    {
     "data": {
      "text/plain": [
       "11056"
      ]
     },
     "execution_count": 25,
     "metadata": {},
     "output_type": "execute_result"
    }
   ],
   "source": [
    "# El número de canciones reproducidas en Springfield el miércoles\n",
    "number_tracks(df, day=\"Wednesday\", city=\"Springfield\")"
   ]
  },
  {
   "cell_type": "code",
   "execution_count": 26,
   "metadata": {
    "id": "j2y3TAwo_Zcu"
   },
   "outputs": [
    {
     "data": {
      "text/plain": [
       "0"
      ]
     },
     "execution_count": 26,
     "metadata": {},
     "output_type": "execute_result"
    }
   ],
   "source": [
    "# El número de canciones reproducidas en Shelbyville el miércoles\n",
    "number_tracks(df, day=\"Wednsday\", city=\"Shelbyville\")"
   ]
  },
  {
   "cell_type": "code",
   "execution_count": 27,
   "metadata": {
    "id": "vYDw5u_K_Zcu"
   },
   "outputs": [
    {
     "data": {
      "text/plain": [
       "15945"
      ]
     },
     "execution_count": 27,
     "metadata": {},
     "output_type": "execute_result"
    }
   ],
   "source": [
    "# El número de canciones reproducidas en Springfield el viernes\n",
    "number_tracks(df, day=\"Friday\", city=\"Springfield\")"
   ]
  },
  {
   "cell_type": "code",
   "execution_count": 28,
   "metadata": {
    "id": "8_yzFtW3_Zcu"
   },
   "outputs": [
    {
     "data": {
      "text/plain": [
       "5895"
      ]
     },
     "execution_count": 28,
     "metadata": {},
     "output_type": "execute_result"
    }
   ],
   "source": [
    "# El número de canciones reproducidas en Shelbyville el viernes\n",
    "number_tracks(df, day=\"Friday\", city=\"Shelbyville\")"
   ]
  },
  {
   "cell_type": "markdown",
   "metadata": {
    "id": "-EgPIHYu_Zcu"
   },
   "source": [
    "**Conclusiones**\n",
    "\n",
    "`Comenta si la hipótesis es correcta o se debe rechazar. Explica tu razonamiento.`\n",
    "Hipotesis: La actividad de los usuarios y las usuarias difiere según el día de la semana y dependiendo de la ciudad.\n",
    "\n",
    "Yo acepto la hipotesis, ya que si eiste una tendencia en ambas ciudades donde muestra un patrón de como conforme avanza la semana la música reproducida se ve afecta y lleva a un aumento conforme el fin de semana se acerca, esto puede tener muchos motivos.\n",
    "Aunque la cantidad de música escuchada es significativamente diferente para ambas ciudades, el patron de reproducion se repite en ambas ciudades."
   ]
  },
  {
   "cell_type": "markdown",
   "metadata": {},
   "source": [
    "<div class=\"alert alert-block alert-success\">\n",
    "<b>Comentario del revisor</b> <a class=\"tocSkip\"></a>\n",
    "\n",
    "Hola! Excelente trabajo con la conclusión. En futuros cursos vas a poder complementar estas pruebas con pruebas estadisticas por las pruebas de diferencias de medias, además vas a poder explorar el desarrollo de gráficas que complementen este análisis. Por ejemplo en este caso podríamos desarrollar una gráfica que muestre la cantidad de canciones por día y otra que muestre la relación por ciudad. Para esto puedes aplicar la función que creaste para obtener la información necesaria para hacer estas gráficas</div>"
   ]
  },
  {
   "cell_type": "markdown",
   "metadata": {
    "id": "p7nFQajCVw5B"
   },
   "source": [
    "[Volver a Contenidos](#back)"
   ]
  },
  {
   "cell_type": "markdown",
   "metadata": {
    "id": "ykKQ0N65_Zcv"
   },
   "source": [
    "# Conclusiones <a id='end'></a>"
   ]
  },
  {
   "cell_type": "markdown",
   "metadata": {
    "id": "tjUwbHb3_Zcv"
   },
   "source": [
    "`Resume aquí tus conclusiones sobre la hipótesis.`\n",
    "Si existe un patron de comportamiento para oír música en elos usuarios dependiendo el d"
   ]
  },
  {
   "cell_type": "markdown",
   "metadata": {
    "id": "azLHu64yOIp7"
   },
   "source": [
    "### Nota\n",
    "En proyectos de investigación reales, la prueba de hipótesis estadística es más precisa y cuantitativa. También ten en cuenta que no siempre se pueden sacar conclusiones sobre una ciudad entera a partir de datos de una sola fuente.\n",
    "\n",
    "Aprenderás más sobre la prueba de hipótesis en el sprint de análisis estadístico de datos."
   ]
  },
  {
   "cell_type": "markdown",
   "metadata": {},
   "source": [
    "<div class=\"alert alert-block alert-success\">\n",
    "<b>Comentario general</b> <a class=\"tocSkip\"></a>\n",
    "\n",
    "Gabriela,  hiciste un muy buen trabajo con el proyecto, pudiste resolver todos los ejericios de una forma adecuada y se nota que hiciste uso de todas las herramientas aprendidas. Además, considero que te ayudo para aprender el uso de algunas funciones que te sirvan en los siguientes cursos.Solamente verifica lo de la tabla de contenidos.\n",
    "\n",
    "Exitos en lo que viene, saludos.</div>"
   ]
  },
  {
   "cell_type": "markdown",
   "metadata": {
    "id": "Ju4AHDSgV1FE"
   },
   "source": [
    "[Volver a Contenidos](#back)"
   ]
  }
 ],
 "metadata": {
  "ExecuteTimeLog": [
   {
    "duration": 300,
    "start_time": "2024-08-20T15:44:18.892Z"
   },
   {
    "duration": 440,
    "start_time": "2024-08-20T15:44:22.646Z"
   },
   {
    "duration": 180,
    "start_time": "2024-08-20T15:44:33.542Z"
   },
   {
    "duration": 459,
    "start_time": "2024-08-20T15:44:47.147Z"
   },
   {
    "duration": 150,
    "start_time": "2024-08-20T15:44:50.934Z"
   },
   {
    "duration": 22,
    "start_time": "2024-08-20T15:44:55.486Z"
   },
   {
    "duration": 34,
    "start_time": "2024-08-20T15:48:57.264Z"
   },
   {
    "duration": 338,
    "start_time": "2024-08-20T16:03:46.220Z"
   },
   {
    "duration": 6,
    "start_time": "2024-08-20T16:04:11.151Z"
   },
   {
    "duration": 4,
    "start_time": "2024-08-20T16:07:25.846Z"
   },
   {
    "duration": 4,
    "start_time": "2024-08-20T16:07:32.787Z"
   },
   {
    "duration": 747,
    "start_time": "2024-08-20T16:10:17.495Z"
   },
   {
    "duration": 4,
    "start_time": "2024-08-20T16:13:26.254Z"
   },
   {
    "duration": 4,
    "start_time": "2024-08-20T16:14:56.850Z"
   },
   {
    "duration": 7,
    "start_time": "2024-08-20T16:16:10.326Z"
   },
   {
    "duration": 53,
    "start_time": "2024-08-20T16:16:38.190Z"
   },
   {
    "duration": 4,
    "start_time": "2024-08-20T16:16:58.204Z"
   },
   {
    "duration": 3,
    "start_time": "2024-08-20T16:17:41.997Z"
   },
   {
    "duration": 4,
    "start_time": "2024-08-20T16:17:45.840Z"
   },
   {
    "duration": 305,
    "start_time": "2024-08-20T16:18:12.229Z"
   },
   {
    "duration": 20,
    "start_time": "2024-08-20T16:18:31.686Z"
   },
   {
    "duration": 440,
    "start_time": "2024-08-20T16:18:55.852Z"
   },
   {
    "duration": 156,
    "start_time": "2024-08-20T16:19:01.122Z"
   },
   {
    "duration": 20,
    "start_time": "2024-08-20T16:19:04.154Z"
   },
   {
    "duration": 32,
    "start_time": "2024-08-20T16:19:08.789Z"
   },
   {
    "duration": 6,
    "start_time": "2024-08-20T16:19:18.386Z"
   },
   {
    "duration": 8,
    "start_time": "2024-08-20T16:20:11.661Z"
   },
   {
    "duration": 4,
    "start_time": "2024-08-20T16:20:20.832Z"
   },
   {
    "duration": 6,
    "start_time": "2024-08-20T16:20:35.294Z"
   },
   {
    "duration": 4,
    "start_time": "2024-08-20T16:20:56.896Z"
   },
   {
    "duration": 4,
    "start_time": "2024-08-20T16:21:09.298Z"
   },
   {
    "duration": 6,
    "start_time": "2024-08-20T16:21:21.149Z"
   },
   {
    "duration": 5,
    "start_time": "2024-08-20T16:26:42.217Z"
   },
   {
    "duration": 341,
    "start_time": "2024-08-20T16:30:18.884Z"
   },
   {
    "duration": 4,
    "start_time": "2024-08-20T16:30:31.753Z"
   },
   {
    "duration": 6,
    "start_time": "2024-08-20T16:30:40.209Z"
   },
   {
    "duration": 5,
    "start_time": "2024-08-20T16:30:51.928Z"
   },
   {
    "duration": 23,
    "start_time": "2024-08-20T16:31:01.315Z"
   },
   {
    "duration": 5,
    "start_time": "2024-08-20T16:31:32.649Z"
   },
   {
    "duration": 21,
    "start_time": "2024-08-20T16:31:38.545Z"
   },
   {
    "duration": 27,
    "start_time": "2024-08-20T16:32:26.775Z"
   },
   {
    "duration": 4,
    "start_time": "2024-08-20T16:50:30.666Z"
   },
   {
    "duration": 5,
    "start_time": "2024-08-20T16:51:29.199Z"
   },
   {
    "duration": 4,
    "start_time": "2024-08-20T16:52:44.579Z"
   },
   {
    "duration": 21,
    "start_time": "2024-08-20T16:52:47.901Z"
   },
   {
    "duration": 21,
    "start_time": "2024-08-20T16:52:58.904Z"
   },
   {
    "duration": 6,
    "start_time": "2024-08-20T16:53:18.677Z"
   },
   {
    "duration": 4,
    "start_time": "2024-08-20T16:53:57.283Z"
   },
   {
    "duration": 6,
    "start_time": "2024-08-20T16:54:09.756Z"
   },
   {
    "duration": 5,
    "start_time": "2024-08-20T16:54:21.076Z"
   },
   {
    "duration": 464,
    "start_time": "2024-08-20T16:54:41.429Z"
   },
   {
    "duration": 153,
    "start_time": "2024-08-20T16:54:47.902Z"
   },
   {
    "duration": 21,
    "start_time": "2024-08-20T16:54:51.608Z"
   },
   {
    "duration": 33,
    "start_time": "2024-08-20T16:54:57.220Z"
   },
   {
    "duration": 5,
    "start_time": "2024-08-20T16:55:04.992Z"
   },
   {
    "duration": 342,
    "start_time": "2024-08-20T16:55:11.452Z"
   },
   {
    "duration": 6,
    "start_time": "2024-08-20T16:55:18.054Z"
   },
   {
    "duration": 5,
    "start_time": "2024-08-20T16:55:43.668Z"
   },
   {
    "duration": 6,
    "start_time": "2024-08-20T16:55:47.805Z"
   },
   {
    "duration": 5,
    "start_time": "2024-08-20T16:56:43.708Z"
   },
   {
    "duration": 5,
    "start_time": "2024-08-20T16:56:48.623Z"
   },
   {
    "duration": 477,
    "start_time": "2024-08-20T16:57:53.610Z"
   },
   {
    "duration": 164,
    "start_time": "2024-08-20T16:57:56.158Z"
   },
   {
    "duration": 25,
    "start_time": "2024-08-20T16:57:59.827Z"
   },
   {
    "duration": 37,
    "start_time": "2024-08-20T16:58:04.787Z"
   },
   {
    "duration": 6,
    "start_time": "2024-08-20T16:58:12.549Z"
   },
   {
    "duration": 5,
    "start_time": "2024-08-20T16:58:17.841Z"
   },
   {
    "duration": 6,
    "start_time": "2024-08-20T16:58:41.586Z"
   },
   {
    "duration": 342,
    "start_time": "2024-08-20T16:59:58.555Z"
   },
   {
    "duration": 5,
    "start_time": "2024-08-20T17:00:09.425Z"
   },
   {
    "duration": 7,
    "start_time": "2024-08-20T17:00:20.653Z"
   },
   {
    "duration": 26,
    "start_time": "2024-08-20T17:01:05.555Z"
   },
   {
    "duration": 7,
    "start_time": "2024-08-20T17:04:29.549Z"
   },
   {
    "duration": 18,
    "start_time": "2024-08-20T17:04:38.221Z"
   },
   {
    "duration": 28,
    "start_time": "2024-08-20T17:05:04.523Z"
   },
   {
    "duration": 75,
    "start_time": "2024-08-20T17:06:04.811Z"
   },
   {
    "duration": 26,
    "start_time": "2024-08-20T17:07:09.337Z"
   },
   {
    "duration": 19,
    "start_time": "2024-08-20T17:07:22.446Z"
   },
   {
    "duration": 78,
    "start_time": "2024-08-20T17:08:18.416Z"
   },
   {
    "duration": 72,
    "start_time": "2024-08-20T17:08:30.901Z"
   },
   {
    "duration": 13,
    "start_time": "2024-08-20T17:19:55.396Z"
   },
   {
    "duration": 6,
    "start_time": "2024-08-20T17:27:21.639Z"
   },
   {
    "duration": 10,
    "start_time": "2024-08-20T17:28:25.224Z"
   },
   {
    "duration": 34,
    "start_time": "2024-08-20T17:30:27.936Z"
   },
   {
    "duration": 22,
    "start_time": "2024-08-20T17:30:39.396Z"
   },
   {
    "duration": 23,
    "start_time": "2024-08-20T17:30:47.022Z"
   },
   {
    "duration": 32,
    "start_time": "2024-08-20T17:31:06.030Z"
   },
   {
    "duration": 6,
    "start_time": "2024-08-20T17:31:37.586Z"
   },
   {
    "duration": 5,
    "start_time": "2024-08-20T17:32:35.737Z"
   },
   {
    "duration": 22,
    "start_time": "2024-08-20T17:33:02.000Z"
   },
   {
    "duration": 18,
    "start_time": "2024-08-20T17:33:12.371Z"
   },
   {
    "duration": 6,
    "start_time": "2024-08-20T17:35:21.229Z"
   },
   {
    "duration": 7,
    "start_time": "2024-08-20T17:35:31.923Z"
   },
   {
    "duration": 11,
    "start_time": "2024-08-20T17:36:49.488Z"
   },
   {
    "duration": 474,
    "start_time": "2024-08-20T20:17:39.970Z"
   },
   {
    "duration": 177,
    "start_time": "2024-08-20T20:17:43.224Z"
   },
   {
    "duration": 22,
    "start_time": "2024-08-20T20:17:47.555Z"
   },
   {
    "duration": 33,
    "start_time": "2024-08-20T20:17:52.136Z"
   },
   {
    "duration": 6,
    "start_time": "2024-08-20T20:17:59.438Z"
   },
   {
    "duration": 6,
    "start_time": "2024-08-20T20:18:04.962Z"
   },
   {
    "duration": 5,
    "start_time": "2024-08-20T20:18:09.973Z"
   },
   {
    "duration": 6,
    "start_time": "2024-08-20T20:18:20.732Z"
   },
   {
    "duration": 6,
    "start_time": "2024-08-20T20:19:00.768Z"
   },
   {
    "duration": 6,
    "start_time": "2024-08-20T20:19:05.501Z"
   },
   {
    "duration": 415,
    "start_time": "2024-08-20T20:19:39.628Z"
   },
   {
    "duration": 154,
    "start_time": "2024-08-20T20:19:42.708Z"
   },
   {
    "duration": 33,
    "start_time": "2024-08-20T20:19:46.825Z"
   },
   {
    "duration": 34,
    "start_time": "2024-08-20T20:19:51.509Z"
   },
   {
    "duration": 6,
    "start_time": "2024-08-20T20:19:58.525Z"
   },
   {
    "duration": 5,
    "start_time": "2024-08-20T20:20:02.170Z"
   },
   {
    "duration": 5,
    "start_time": "2024-08-20T20:20:14.378Z"
   },
   {
    "duration": 347,
    "start_time": "2024-08-20T20:22:34.725Z"
   },
   {
    "duration": 7,
    "start_time": "2024-08-20T20:22:43.284Z"
   },
   {
    "duration": 28,
    "start_time": "2024-08-20T20:22:52.439Z"
   },
   {
    "duration": 17,
    "start_time": "2024-08-20T20:23:05.666Z"
   },
   {
    "duration": 28,
    "start_time": "2024-08-20T20:23:10.302Z"
   },
   {
    "duration": 96,
    "start_time": "2024-08-20T20:23:16.284Z"
   },
   {
    "duration": 83,
    "start_time": "2024-08-20T20:23:22.000Z"
   },
   {
    "duration": 78,
    "start_time": "2024-08-20T20:23:26.411Z"
   },
   {
    "duration": 12,
    "start_time": "2024-08-20T20:23:37.670Z"
   },
   {
    "duration": 7,
    "start_time": "2024-08-20T20:23:51.738Z"
   },
   {
    "duration": 5,
    "start_time": "2024-08-20T20:24:25.720Z"
   },
   {
    "duration": 24,
    "start_time": "2024-08-20T20:24:39.406Z"
   },
   {
    "duration": 8,
    "start_time": "2024-08-20T20:32:23.710Z"
   },
   {
    "duration": 6,
    "start_time": "2024-08-20T20:32:42.715Z"
   },
   {
    "duration": 34,
    "start_time": "2024-08-20T20:34:36.203Z"
   },
   {
    "duration": 12,
    "start_time": "2024-08-20T20:34:59.212Z"
   },
   {
    "duration": 176,
    "start_time": "2024-08-20T20:41:08.470Z"
   },
   {
    "duration": 14,
    "start_time": "2024-08-20T20:42:59.809Z"
   },
   {
    "duration": 23,
    "start_time": "2024-08-20T20:45:03.690Z"
   },
   {
    "duration": 20,
    "start_time": "2024-08-20T20:47:03.554Z"
   },
   {
    "duration": 6,
    "start_time": "2024-08-20T21:06:17.445Z"
   },
   {
    "duration": 17,
    "start_time": "2024-08-20T22:08:29.617Z"
   },
   {
    "duration": 7,
    "start_time": "2024-08-20T22:08:35.670Z"
   },
   {
    "duration": 577,
    "start_time": "2024-08-21T13:48:30.699Z"
   },
   {
    "duration": 186,
    "start_time": "2024-08-21T13:48:31.280Z"
   },
   {
    "duration": 22,
    "start_time": "2024-08-21T13:48:31.470Z"
   },
   {
    "duration": 36,
    "start_time": "2024-08-21T13:48:31.505Z"
   },
   {
    "duration": 6,
    "start_time": "2024-08-21T13:48:31.544Z"
   },
   {
    "duration": 5,
    "start_time": "2024-08-21T13:48:31.554Z"
   },
   {
    "duration": 46,
    "start_time": "2024-08-21T13:48:31.562Z"
   },
   {
    "duration": 343,
    "start_time": "2024-08-21T13:48:33.176Z"
   },
   {
    "duration": 21,
    "start_time": "2024-08-21T13:48:39.734Z"
   },
   {
    "duration": 59,
    "start_time": "2024-08-21T13:48:44.542Z"
   },
   {
    "duration": 22,
    "start_time": "2024-08-21T13:49:32.675Z"
   },
   {
    "duration": 311,
    "start_time": "2024-08-23T15:25:22.395Z"
   },
   {
    "duration": 419,
    "start_time": "2024-08-23T15:26:12.649Z"
   },
   {
    "duration": 178,
    "start_time": "2024-08-23T15:26:18.502Z"
   },
   {
    "duration": 20,
    "start_time": "2024-08-23T15:26:25.065Z"
   },
   {
    "duration": 49,
    "start_time": "2024-08-23T15:26:30.559Z"
   },
   {
    "duration": 5,
    "start_time": "2024-08-23T15:26:54.911Z"
   },
   {
    "duration": 6,
    "start_time": "2024-08-23T15:26:59.714Z"
   },
   {
    "duration": 6,
    "start_time": "2024-08-23T15:27:14.262Z"
   },
   {
    "duration": 4,
    "start_time": "2024-08-23T15:27:34.308Z"
   },
   {
    "duration": 5,
    "start_time": "2024-08-23T15:27:45.181Z"
   },
   {
    "duration": 28,
    "start_time": "2024-08-23T15:28:19.759Z"
   },
   {
    "duration": 16,
    "start_time": "2024-08-23T15:28:28.696Z"
   },
   {
    "duration": 27,
    "start_time": "2024-08-23T15:28:34.450Z"
   },
   {
    "duration": 76,
    "start_time": "2024-08-23T15:28:41.081Z"
   },
   {
    "duration": 10,
    "start_time": "2024-08-23T15:29:13.605Z"
   },
   {
    "duration": 11,
    "start_time": "2024-08-23T15:29:23.532Z"
   },
   {
    "duration": 5,
    "start_time": "2024-08-23T15:29:38.059Z"
   },
   {
    "duration": 7,
    "start_time": "2024-08-23T15:31:07.638Z"
   },
   {
    "duration": 333,
    "start_time": "2024-08-23T15:31:31.026Z"
   },
   {
    "duration": 26,
    "start_time": "2024-08-23T15:31:42.826Z"
   },
   {
    "duration": 5,
    "start_time": "2024-08-23T15:32:07.959Z"
   },
   {
    "duration": 448,
    "start_time": "2024-08-23T15:32:31.318Z"
   },
   {
    "duration": 160,
    "start_time": "2024-08-23T15:32:34.862Z"
   },
   {
    "duration": 21,
    "start_time": "2024-08-23T15:32:39.408Z"
   },
   {
    "duration": 32,
    "start_time": "2024-08-23T15:32:43.810Z"
   },
   {
    "duration": 6,
    "start_time": "2024-08-23T15:32:55.089Z"
   },
   {
    "duration": 5,
    "start_time": "2024-08-23T15:32:59.445Z"
   },
   {
    "duration": 5,
    "start_time": "2024-08-23T15:33:05.449Z"
   },
   {
    "duration": 4,
    "start_time": "2024-08-23T15:33:13.832Z"
   },
   {
    "duration": 135,
    "start_time": "2024-08-23T15:33:34.436Z"
   },
   {
    "duration": 6,
    "start_time": "2024-08-23T15:33:51.106Z"
   },
   {
    "duration": 5,
    "start_time": "2024-08-23T15:33:57.550Z"
   },
   {
    "duration": 27,
    "start_time": "2024-08-23T15:34:04.311Z"
   },
   {
    "duration": 16,
    "start_time": "2024-08-23T15:34:09.562Z"
   },
   {
    "duration": 27,
    "start_time": "2024-08-23T15:34:15.531Z"
   },
   {
    "duration": 75,
    "start_time": "2024-08-23T15:34:20.338Z"
   },
   {
    "duration": 78,
    "start_time": "2024-08-23T15:34:23.929Z"
   },
   {
    "duration": 70,
    "start_time": "2024-08-23T15:34:30.606Z"
   },
   {
    "duration": 12,
    "start_time": "2024-08-23T15:34:36.316Z"
   },
   {
    "duration": 7,
    "start_time": "2024-08-23T15:42:48.587Z"
   },
   {
    "duration": 4,
    "start_time": "2024-08-23T15:43:51.439Z"
   },
   {
    "duration": 233,
    "start_time": "2024-08-23T15:45:35.618Z"
   },
   {
    "duration": 32,
    "start_time": "2024-08-23T15:46:30.570Z"
   },
   {
    "duration": 5,
    "start_time": "2024-08-23T15:47:04.322Z"
   },
   {
    "duration": 35,
    "start_time": "2024-08-23T15:47:07.862Z"
   },
   {
    "duration": 4,
    "start_time": "2024-08-23T15:48:42.931Z"
   },
   {
    "duration": 1482,
    "start_time": "2024-08-23T15:48:48.077Z"
   },
   {
    "duration": 6,
    "start_time": "2024-08-23T15:49:04.168Z"
   },
   {
    "duration": 16,
    "start_time": "2024-08-23T15:49:17.798Z"
   },
   {
    "duration": 598,
    "start_time": "2024-08-23T15:54:51.879Z"
   },
   {
    "duration": 59,
    "start_time": "2024-08-23T15:54:57.032Z"
   },
   {
    "duration": 27,
    "start_time": "2024-08-23T15:55:20.530Z"
   },
   {
    "duration": 28,
    "start_time": "2024-08-23T15:58:55.128Z"
   },
   {
    "duration": 80,
    "start_time": "2024-08-23T15:59:26.902Z"
   },
   {
    "duration": 23,
    "start_time": "2024-08-23T15:59:36.125Z"
   },
   {
    "duration": 5,
    "start_time": "2024-08-23T16:05:19.761Z"
   },
   {
    "duration": 6,
    "start_time": "2024-08-23T16:06:35.283Z"
   },
   {
    "duration": 6,
    "start_time": "2024-08-23T16:06:52.415Z"
   },
   {
    "duration": 9,
    "start_time": "2024-08-23T16:07:15.118Z"
   },
   {
    "duration": 7,
    "start_time": "2024-08-23T16:08:03.746Z"
   },
   {
    "duration": 5,
    "start_time": "2024-08-23T16:08:32.370Z"
   },
   {
    "duration": 25,
    "start_time": "2024-08-23T16:10:33.200Z"
   },
   {
    "duration": 5,
    "start_time": "2024-08-23T16:10:51.463Z"
   },
   {
    "duration": 5,
    "start_time": "2024-08-23T16:11:00.857Z"
   },
   {
    "duration": 16,
    "start_time": "2024-08-23T16:11:05.099Z"
   },
   {
    "duration": 5,
    "start_time": "2024-08-23T16:11:09.436Z"
   },
   {
    "duration": 23,
    "start_time": "2024-08-23T16:11:57.064Z"
   },
   {
    "duration": 410,
    "start_time": "2024-08-23T16:12:21.360Z"
   },
   {
    "duration": 162,
    "start_time": "2024-08-23T16:12:24.332Z"
   },
   {
    "duration": 43,
    "start_time": "2024-08-23T16:12:30.281Z"
   },
   {
    "duration": 34,
    "start_time": "2024-08-23T16:12:34.932Z"
   },
   {
    "duration": 5,
    "start_time": "2024-08-23T16:12:43.594Z"
   },
   {
    "duration": 9,
    "start_time": "2024-08-23T16:12:47.996Z"
   },
   {
    "duration": 5,
    "start_time": "2024-08-23T16:12:52.474Z"
   },
   {
    "duration": 7,
    "start_time": "2024-08-23T16:12:57.517Z"
   },
   {
    "duration": 5,
    "start_time": "2024-08-23T16:13:04.806Z"
   },
   {
    "duration": 38,
    "start_time": "2024-08-23T16:13:09.399Z"
   },
   {
    "duration": 22,
    "start_time": "2024-08-23T16:13:13.806Z"
   },
   {
    "duration": 32,
    "start_time": "2024-08-23T16:13:18.708Z"
   },
   {
    "duration": 80,
    "start_time": "2024-08-23T16:13:23.727Z"
   },
   {
    "duration": 90,
    "start_time": "2024-08-23T16:13:28.359Z"
   },
   {
    "duration": 70,
    "start_time": "2024-08-23T16:13:34.525Z"
   },
   {
    "duration": 13,
    "start_time": "2024-08-23T16:13:40.372Z"
   },
   {
    "duration": 5,
    "start_time": "2024-08-23T16:13:47.326Z"
   },
   {
    "duration": 6,
    "start_time": "2024-08-23T16:13:51.826Z"
   },
   {
    "duration": 14,
    "start_time": "2024-08-23T16:14:00.549Z"
   },
   {
    "duration": 34,
    "start_time": "2024-08-23T16:14:09.598Z"
   },
   {
    "duration": 22,
    "start_time": "2024-08-23T16:14:15.345Z"
   },
   {
    "duration": 5,
    "start_time": "2024-08-23T16:14:21.750Z"
   },
   {
    "duration": 29,
    "start_time": "2024-08-23T16:14:28.302Z"
   },
   {
    "duration": 18,
    "start_time": "2024-08-23T16:14:31.668Z"
   },
   {
    "duration": 30,
    "start_time": "2024-08-23T16:14:42.509Z"
   },
   {
    "duration": 16,
    "start_time": "2024-08-23T16:14:46.034Z"
   },
   {
    "duration": 20,
    "start_time": "2024-08-23T16:15:00.369Z"
   },
   {
    "duration": 19,
    "start_time": "2024-08-23T16:15:03.326Z"
   },
   {
    "duration": 307,
    "start_time": "2024-08-24T14:10:39.150Z"
   },
   {
    "duration": 23,
    "start_time": "2024-08-24T14:10:56.135Z"
   },
   {
    "duration": 22,
    "start_time": "2024-08-24T14:11:19.221Z"
   },
   {
    "duration": 20,
    "start_time": "2024-08-24T14:11:28.793Z"
   },
   {
    "duration": 23,
    "start_time": "2024-08-24T14:13:55.556Z"
   },
   {
    "duration": 426,
    "start_time": "2024-08-24T14:14:16.488Z"
   },
   {
    "duration": 176,
    "start_time": "2024-08-24T14:14:19.174Z"
   },
   {
    "duration": 22,
    "start_time": "2024-08-24T14:14:25.147Z"
   },
   {
    "duration": 34,
    "start_time": "2024-08-24T14:14:30.824Z"
   },
   {
    "duration": 6,
    "start_time": "2024-08-24T14:14:39.338Z"
   },
   {
    "duration": 5,
    "start_time": "2024-08-24T14:14:44.728Z"
   },
   {
    "duration": 6,
    "start_time": "2024-08-24T14:14:48.823Z"
   },
   {
    "duration": 5,
    "start_time": "2024-08-24T14:14:54.552Z"
   },
   {
    "duration": 6,
    "start_time": "2024-08-24T14:14:59.967Z"
   },
   {
    "duration": 26,
    "start_time": "2024-08-24T14:15:05.569Z"
   },
   {
    "duration": 19,
    "start_time": "2024-08-24T14:15:11.328Z"
   },
   {
    "duration": 26,
    "start_time": "2024-08-24T14:15:16.477Z"
   },
   {
    "duration": 76,
    "start_time": "2024-08-24T14:15:22.849Z"
   },
   {
    "duration": 80,
    "start_time": "2024-08-24T14:15:26.553Z"
   },
   {
    "duration": 71,
    "start_time": "2024-08-24T14:15:29.959Z"
   },
   {
    "duration": 12,
    "start_time": "2024-08-24T14:15:34.665Z"
   },
   {
    "duration": 6,
    "start_time": "2024-08-24T14:15:42.193Z"
   },
   {
    "duration": 8,
    "start_time": "2024-08-24T14:15:48.898Z"
   },
   {
    "duration": 14,
    "start_time": "2024-08-24T14:16:20.167Z"
   },
   {
    "duration": 30,
    "start_time": "2024-08-24T14:16:26.992Z"
   },
   {
    "duration": 22,
    "start_time": "2024-08-24T14:16:35.777Z"
   },
   {
    "duration": 22,
    "start_time": "2024-08-24T14:16:56.426Z"
   },
   {
    "duration": 4,
    "start_time": "2024-08-24T14:17:56.552Z"
   },
   {
    "duration": 20,
    "start_time": "2024-08-24T14:18:06.240Z"
   },
   {
    "duration": 18,
    "start_time": "2024-08-24T14:18:09.011Z"
   },
   {
    "duration": 21,
    "start_time": "2024-08-24T14:18:14.183Z"
   },
   {
    "duration": 17,
    "start_time": "2024-08-24T14:18:17.415Z"
   },
   {
    "duration": 21,
    "start_time": "2024-08-24T14:18:21.447Z"
   },
   {
    "duration": 19,
    "start_time": "2024-08-24T14:18:24.103Z"
   },
   {
    "duration": 5,
    "start_time": "2024-08-24T14:25:03.665Z"
   },
   {
    "duration": 6,
    "start_time": "2024-08-24T14:25:07.327Z"
   },
   {
    "duration": 364,
    "start_time": "2024-08-24T14:39:03.639Z"
   },
   {
    "duration": 5,
    "start_time": "2024-08-24T14:39:36.739Z"
   },
   {
    "duration": 14,
    "start_time": "2024-08-24T14:39:41.597Z"
   },
   {
    "duration": 431,
    "start_time": "2024-08-24T14:40:31.164Z"
   },
   {
    "duration": 152,
    "start_time": "2024-08-24T14:40:33.882Z"
   },
   {
    "duration": 23,
    "start_time": "2024-08-24T14:40:38.502Z"
   },
   {
    "duration": 33,
    "start_time": "2024-08-24T14:40:42.315Z"
   },
   {
    "duration": 5,
    "start_time": "2024-08-24T14:40:52.483Z"
   },
   {
    "duration": 6,
    "start_time": "2024-08-24T14:40:56.213Z"
   },
   {
    "duration": 6,
    "start_time": "2024-08-24T14:41:03.611Z"
   },
   {
    "duration": 4,
    "start_time": "2024-08-24T14:41:06.507Z"
   },
   {
    "duration": 6,
    "start_time": "2024-08-24T14:41:10.367Z"
   },
   {
    "duration": 28,
    "start_time": "2024-08-24T14:41:14.181Z"
   },
   {
    "duration": 16,
    "start_time": "2024-08-24T14:41:18.640Z"
   },
   {
    "duration": 27,
    "start_time": "2024-08-24T14:41:22.660Z"
   },
   {
    "duration": 76,
    "start_time": "2024-08-24T14:41:26.864Z"
   },
   {
    "duration": 83,
    "start_time": "2024-08-24T14:41:31.639Z"
   },
   {
    "duration": 84,
    "start_time": "2024-08-24T14:41:39.654Z"
   },
   {
    "duration": 17,
    "start_time": "2024-08-24T14:41:42.835Z"
   },
   {
    "duration": 5,
    "start_time": "2024-08-24T14:41:48.715Z"
   },
   {
    "duration": 13,
    "start_time": "2024-08-24T14:41:55.106Z"
   },
   {
    "duration": 15,
    "start_time": "2024-08-24T14:41:57.512Z"
   },
   {
    "duration": 34,
    "start_time": "2024-08-24T14:42:07.575Z"
   },
   {
    "duration": 21,
    "start_time": "2024-08-24T14:42:13.101Z"
   },
   {
    "duration": 5,
    "start_time": "2024-08-24T14:42:19.613Z"
   },
   {
    "duration": 21,
    "start_time": "2024-08-24T14:43:23.020Z"
   },
   {
    "duration": 20,
    "start_time": "2024-08-24T14:43:25.386Z"
   },
   {
    "duration": 19,
    "start_time": "2024-08-24T14:43:28.713Z"
   },
   {
    "duration": 17,
    "start_time": "2024-08-24T14:43:31.803Z"
   },
   {
    "duration": 23,
    "start_time": "2024-08-24T14:43:34.970Z"
   },
   {
    "duration": 19,
    "start_time": "2024-08-24T14:43:43.287Z"
   }
  ],
  "colab": {
   "collapsed_sections": [
    "E0vqbgi9ay0H",
    "VUC88oWjTJw2"
   ],
   "provenance": []
  },
  "kernelspec": {
   "display_name": "Python 3 (ipykernel)",
   "language": "python",
   "name": "python3"
  },
  "language_info": {
   "codemirror_mode": {
    "name": "ipython",
    "version": 3
   },
   "file_extension": ".py",
   "mimetype": "text/x-python",
   "name": "python",
   "nbconvert_exporter": "python",
   "pygments_lexer": "ipython3",
   "version": "3.9.19"
  },
  "toc": {
   "base_numbering": 1,
   "nav_menu": {},
   "number_sections": true,
   "sideBar": true,
   "skip_h1_title": true,
   "title_cell": "Table of Contents",
   "title_sidebar": "Contents",
   "toc_cell": false,
   "toc_position": {},
   "toc_section_display": true,
   "toc_window_display": false
  }
 },
 "nbformat": 4,
 "nbformat_minor": 1
}
